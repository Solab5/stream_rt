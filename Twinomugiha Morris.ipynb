{
 "cells": [
  {
   "cell_type": "code",
   "execution_count": 1,
   "id": "2888c264",
   "metadata": {},
   "outputs": [],
   "source": [
    "import pandas as pd\n",
    "import numpy as np"
   ]
  },
  {
   "cell_type": "code",
   "execution_count": 2,
   "id": "78d6b688",
   "metadata": {},
   "outputs": [
    {
     "data": {
      "text/plain": [
       "'/notebooks/course22p2/interview'"
      ]
     },
     "execution_count": 2,
     "metadata": {},
     "output_type": "execute_result"
    }
   ],
   "source": [
    "pwd"
   ]
  },
  {
   "cell_type": "code",
   "execution_count": 3,
   "id": "86edd599",
   "metadata": {},
   "outputs": [
    {
     "data": {
      "text/html": [
       "<div>\n",
       "<style scoped>\n",
       "    .dataframe tbody tr th:only-of-type {\n",
       "        vertical-align: middle;\n",
       "    }\n",
       "\n",
       "    .dataframe tbody tr th {\n",
       "        vertical-align: top;\n",
       "    }\n",
       "\n",
       "    .dataframe thead th {\n",
       "        text-align: right;\n",
       "    }\n",
       "</style>\n",
       "<table border=\"1\" class=\"dataframe\">\n",
       "  <thead>\n",
       "    <tr style=\"text-align: right;\">\n",
       "      <th></th>\n",
       "      <th>SubmissionDate</th>\n",
       "      <th>starttime</th>\n",
       "      <th>endtime</th>\n",
       "      <th>version</th>\n",
       "      <th>duration</th>\n",
       "      <th>survey_start</th>\n",
       "      <th>intro_start</th>\n",
       "      <th>district</th>\n",
       "      <th>Surveyor_Name</th>\n",
       "      <th>hhid_2</th>\n",
       "      <th>...</th>\n",
       "      <th>Season 2 Agriculture Value (Ugx)</th>\n",
       "      <th>Perennial Agriculture Value (Ugx)</th>\n",
       "      <th>Agriculture Income (UGX)</th>\n",
       "      <th>Livestock Income / Consumed (Ugx)</th>\n",
       "      <th>Livestock Asset Value (UGX)</th>\n",
       "      <th>HH Income (UGX)</th>\n",
       "      <th>HH Income + Consumption + Residues (UGX)</th>\n",
       "      <th>HH Income + Consumption+ Assets + Residues (UGX)</th>\n",
       "      <th>Treatment Status</th>\n",
       "      <th>Cohort</th>\n",
       "    </tr>\n",
       "  </thead>\n",
       "  <tbody>\n",
       "    <tr>\n",
       "      <th>0</th>\n",
       "      <td>Aug 8, 2022 7:49:13 PM</td>\n",
       "      <td>Aug 8, 2022 1:17:13 PM</td>\n",
       "      <td>Aug 8, 2022 1:58:34 PM</td>\n",
       "      <td>2208051941</td>\n",
       "      <td>2455</td>\n",
       "      <td>3.0</td>\n",
       "      <td>3.0</td>\n",
       "      <td>5</td>\n",
       "      <td>97</td>\n",
       "      <td>MIT-KAS-MEB-M7121</td>\n",
       "      <td>...</td>\n",
       "      <td>200000.0</td>\n",
       "      <td>0.0</td>\n",
       "      <td>100000.0</td>\n",
       "      <td>0</td>\n",
       "      <td>0</td>\n",
       "      <td>150000.0</td>\n",
       "      <td>250000.0</td>\n",
       "      <td>250000.0</td>\n",
       "      <td>Treatment</td>\n",
       "      <td>2020</td>\n",
       "    </tr>\n",
       "    <tr>\n",
       "      <th>1</th>\n",
       "      <td>Aug 2, 2022 10:26:09 PM</td>\n",
       "      <td>Aug 2, 2022 5:05:50 PM</td>\n",
       "      <td>Aug 2, 2022 5:37:13 PM</td>\n",
       "      <td>2208012232</td>\n",
       "      <td>1497</td>\n",
       "      <td>3.0</td>\n",
       "      <td>3.0</td>\n",
       "      <td>5</td>\n",
       "      <td>76</td>\n",
       "      <td>MIT-ITA-BRI-M9815</td>\n",
       "      <td>...</td>\n",
       "      <td>0.0</td>\n",
       "      <td>0.0</td>\n",
       "      <td>0.0</td>\n",
       "      <td>0</td>\n",
       "      <td>0</td>\n",
       "      <td>256000.0</td>\n",
       "      <td>256000.0</td>\n",
       "      <td>256000.0</td>\n",
       "      <td>Treatment</td>\n",
       "      <td>2020</td>\n",
       "    </tr>\n",
       "    <tr>\n",
       "      <th>2</th>\n",
       "      <td>Aug 9, 2022 7:33:35 PM</td>\n",
       "      <td>Aug 9, 2022 3:39:53 PM</td>\n",
       "      <td>Aug 9, 2022 4:22:40 PM</td>\n",
       "      <td>2208051941</td>\n",
       "      <td>2548</td>\n",
       "      <td>5.0</td>\n",
       "      <td>5.0</td>\n",
       "      <td>5</td>\n",
       "      <td>101</td>\n",
       "      <td>MIT-NYA-KED-M6525</td>\n",
       "      <td>...</td>\n",
       "      <td>0.0</td>\n",
       "      <td>60000.0</td>\n",
       "      <td>0.0</td>\n",
       "      <td>0</td>\n",
       "      <td>0</td>\n",
       "      <td>160000.0</td>\n",
       "      <td>267000.0</td>\n",
       "      <td>267000.0</td>\n",
       "      <td>Treatment</td>\n",
       "      <td>2020</td>\n",
       "    </tr>\n",
       "    <tr>\n",
       "      <th>3</th>\n",
       "      <td>Aug 6, 2022 2:58:42 PM</td>\n",
       "      <td>Aug 6, 2022 1:29:08 PM</td>\n",
       "      <td>Aug 6, 2022 2:49:20 PM</td>\n",
       "      <td>2208051941</td>\n",
       "      <td>2171</td>\n",
       "      <td>4.0</td>\n",
       "      <td>4.0</td>\n",
       "      <td>5</td>\n",
       "      <td>97</td>\n",
       "      <td>MIT-KAT-AFR-M7293</td>\n",
       "      <td>...</td>\n",
       "      <td>0.0</td>\n",
       "      <td>0.0</td>\n",
       "      <td>196000.0</td>\n",
       "      <td>0</td>\n",
       "      <td>0</td>\n",
       "      <td>196000.0</td>\n",
       "      <td>272000.0</td>\n",
       "      <td>272000.0</td>\n",
       "      <td>Treatment</td>\n",
       "      <td>2020</td>\n",
       "    </tr>\n",
       "    <tr>\n",
       "      <th>4</th>\n",
       "      <td>Aug 5, 2022 10:27:34 PM</td>\n",
       "      <td>Aug 5, 2022 1:10:14 PM</td>\n",
       "      <td>Aug 5, 2022 1:41:17 PM</td>\n",
       "      <td>2208050902</td>\n",
       "      <td>1861</td>\n",
       "      <td>5.0</td>\n",
       "      <td>5.0</td>\n",
       "      <td>5</td>\n",
       "      <td>97</td>\n",
       "      <td>MIT-BUH-ASA-M13934</td>\n",
       "      <td>...</td>\n",
       "      <td>0.0</td>\n",
       "      <td>0.0</td>\n",
       "      <td>58500.0</td>\n",
       "      <td>0</td>\n",
       "      <td>0</td>\n",
       "      <td>138500.0</td>\n",
       "      <td>284000.0</td>\n",
       "      <td>284000.0</td>\n",
       "      <td>Treatment</td>\n",
       "      <td>2020</td>\n",
       "    </tr>\n",
       "  </tbody>\n",
       "</table>\n",
       "<p>5 rows × 1410 columns</p>\n",
       "</div>"
      ],
      "text/plain": [
       "            SubmissionDate               starttime                 endtime  \\\n",
       "0   Aug 8, 2022 7:49:13 PM  Aug 8, 2022 1:17:13 PM  Aug 8, 2022 1:58:34 PM   \n",
       "1  Aug 2, 2022 10:26:09 PM  Aug 2, 2022 5:05:50 PM  Aug 2, 2022 5:37:13 PM   \n",
       "2   Aug 9, 2022 7:33:35 PM  Aug 9, 2022 3:39:53 PM  Aug 9, 2022 4:22:40 PM   \n",
       "3   Aug 6, 2022 2:58:42 PM  Aug 6, 2022 1:29:08 PM  Aug 6, 2022 2:49:20 PM   \n",
       "4  Aug 5, 2022 10:27:34 PM  Aug 5, 2022 1:10:14 PM  Aug 5, 2022 1:41:17 PM   \n",
       "\n",
       "      version  duration  survey_start  intro_start  district  Surveyor_Name  \\\n",
       "0  2208051941      2455           3.0          3.0         5             97   \n",
       "1  2208012232      1497           3.0          3.0         5             76   \n",
       "2  2208051941      2548           5.0          5.0         5            101   \n",
       "3  2208051941      2171           4.0          4.0         5             97   \n",
       "4  2208050902      1861           5.0          5.0         5             97   \n",
       "\n",
       "               hhid_2  ... Season 2 Agriculture Value (Ugx)  \\\n",
       "0   MIT-KAS-MEB-M7121  ...                         200000.0   \n",
       "1   MIT-ITA-BRI-M9815  ...                              0.0   \n",
       "2   MIT-NYA-KED-M6525  ...                              0.0   \n",
       "3   MIT-KAT-AFR-M7293  ...                              0.0   \n",
       "4  MIT-BUH-ASA-M13934  ...                              0.0   \n",
       "\n",
       "   Perennial Agriculture Value (Ugx)  Agriculture Income (UGX)   \\\n",
       "0                                0.0                   100000.0   \n",
       "1                                0.0                        0.0   \n",
       "2                            60000.0                        0.0   \n",
       "3                                0.0                   196000.0   \n",
       "4                                0.0                    58500.0   \n",
       "\n",
       "   Livestock Income / Consumed (Ugx)  Livestock Asset Value (UGX)  \\\n",
       "0                                  0                            0   \n",
       "1                                  0                            0   \n",
       "2                                  0                            0   \n",
       "3                                  0                            0   \n",
       "4                                  0                            0   \n",
       "\n",
       "   HH Income (UGX)  HH Income + Consumption + Residues (UGX)  \\\n",
       "0         150000.0                                  250000.0   \n",
       "1         256000.0                                  256000.0   \n",
       "2         160000.0                                  267000.0   \n",
       "3         196000.0                                  272000.0   \n",
       "4         138500.0                                  284000.0   \n",
       "\n",
       "   HH Income + Consumption+ Assets + Residues (UGX)  Treatment Status  Cohort  \n",
       "0                                          250000.0         Treatment    2020  \n",
       "1                                          256000.0         Treatment    2020  \n",
       "2                                          267000.0         Treatment    2020  \n",
       "3                                          272000.0         Treatment    2020  \n",
       "4                                          284000.0         Treatment    2020  \n",
       "\n",
       "[5 rows x 1410 columns]"
      ]
     },
     "execution_count": 3,
     "metadata": {},
     "output_type": "execute_result"
    }
   ],
   "source": [
    "data = pd.read_excel(\"/notebooks/course22p2/interview/Dataset2 (1).xlsx\")\n",
    "data.head()"
   ]
  },
  {
   "cell_type": "code",
   "execution_count": 4,
   "id": "d29c8144",
   "metadata": {},
   "outputs": [
    {
     "data": {
      "text/plain": [
       "(4597, 1410)"
      ]
     },
     "execution_count": 4,
     "metadata": {},
     "output_type": "execute_result"
    }
   ],
   "source": [
    "data.shape"
   ]
  },
  {
   "cell_type": "markdown",
   "id": "632b73a4",
   "metadata": {},
   "source": [
    "## 1. Using Variable HH Income UGX, Remove outliers of 1% and 4% for lower and upper quadrants respectively?"
   ]
  },
  {
   "cell_type": "code",
   "execution_count": 5,
   "id": "410518e7",
   "metadata": {
    "scrolled": true
   },
   "outputs": [
    {
     "data": {
      "text/plain": [
       "<AxesSubplot:>"
      ]
     },
     "execution_count": 5,
     "metadata": {},
     "output_type": "execute_result"
    },
    {
     "data": {
      "image/png": "[encoded data removed]",
      "text/plain": [
       "<Figure size 432x288 with 1 Axes>"
      ]
     },
     "metadata": {
      "needs_background": "light"
     },
     "output_type": "display_data"
    }
   ],
   "source": [
    "data[\"HH Income (UGX)\"].hist()"
   ]
  },
  {
   "cell_type": "code",
   "execution_count": 6,
   "id": "0e55335a",
   "metadata": {},
   "outputs": [],
   "source": [
    "lower_bound = np.percentile(data[\"HH Income (UGX)\"], 1)\n",
    "upper_bound = np.percentile(data[\"HH Income (UGX)\"], 96)"
   ]
  },
  {
   "cell_type": "code",
   "execution_count": 7,
   "id": "7608898d",
   "metadata": {},
   "outputs": [
    {
     "data": {
      "text/plain": [
       "(54940.0, 6558000.0)"
      ]
     },
     "execution_count": 7,
     "metadata": {},
     "output_type": "execute_result"
    }
   ],
   "source": [
    "lower_bound, upper_bound"
   ]
  },
  {
   "cell_type": "code",
   "execution_count": 8,
   "id": "aa2e8e9e",
   "metadata": {},
   "outputs": [],
   "source": [
    "df = data[(data[\"HH Income (UGX)\"] > lower_bound) & (data[\"HH Income (UGX)\"] < upper_bound)]"
   ]
  },
  {
   "cell_type": "code",
   "execution_count": 9,
   "id": "772b95c0",
   "metadata": {},
   "outputs": [
    {
     "data": {
      "text/plain": [
       "(4366, 1410)"
      ]
     },
     "execution_count": 9,
     "metadata": {},
     "output_type": "execute_result"
    }
   ],
   "source": [
    "df.shape"
   ]
  },
  {
   "cell_type": "code",
   "execution_count": 44,
   "id": "32d3875e",
   "metadata": {},
   "outputs": [
    {
     "data": {
      "text/plain": [
       "<AxesSubplot:>"
      ]
     },
     "execution_count": 44,
     "metadata": {},
     "output_type": "execute_result"
    },
    {
     "data": {
      "image/png": "[encoded data removed]",
      "text/plain": [
       "<Figure size 432x288 with 1 Axes>"
      ]
     },
     "metadata": {
      "needs_background": "light"
     },
     "output_type": "display_data"
    }
   ],
   "source": [
    "df[\"HH Income (UGX)\"].hist()"
   ]
  },
  {
   "cell_type": "markdown",
   "id": "7fe6cdec",
   "metadata": {},
   "source": [
    "## 2. Using the variable duration, Compute the average time taken (in minutes) to complete the survey and comment on your results"
   ]
  },
  {
   "cell_type": "code",
   "execution_count": 10,
   "id": "59f75963",
   "metadata": {},
   "outputs": [
    {
     "name": "stdout",
     "output_type": "stream",
     "text": [
      "<class 'pandas.core.series.Series'>\n",
      "Int64Index: 4366 entries, 0 to 4595\n",
      "Series name: duration\n",
      "Non-Null Count  Dtype\n",
      "--------------  -----\n",
      "4366 non-null   int64\n",
      "dtypes: int64(1)\n",
      "memory usage: 68.2 KB\n"
     ]
    }
   ],
   "source": [
    "df[\"duration\"].info()"
   ]
  },
  {
   "cell_type": "code",
   "execution_count": 11,
   "id": "f3241713",
   "metadata": {},
   "outputs": [
    {
     "data": {
      "text/plain": [
       "3072.4622079706824"
      ]
     },
     "execution_count": 11,
     "metadata": {},
     "output_type": "execute_result"
    }
   ],
   "source": [
    "df[\"duration\"].mean()"
   ]
  },
  {
   "cell_type": "markdown",
   "id": "c059d35a",
   "metadata": {},
   "source": [
    "### On average, It takes  3072 minutes to finish the survey"
   ]
  },
  {
   "cell_type": "markdown",
   "id": "fc3da23f",
   "metadata": {},
   "source": [
    "## 3. Using the variable Surveyor_Name2, compute the average time taken by each surveyor to complete the survey. Compare surveyor time in Qn3 and the average time taken for all surveys from Qn.2 and comment on your results"
   ]
  },
  {
   "cell_type": "code",
   "execution_count": 12,
   "id": "88527ead",
   "metadata": {},
   "outputs": [
    {
     "data": {
      "text/html": [
       "<div>\n",
       "<style scoped>\n",
       "    .dataframe tbody tr th:only-of-type {\n",
       "        vertical-align: middle;\n",
       "    }\n",
       "\n",
       "    .dataframe tbody tr th {\n",
       "        vertical-align: top;\n",
       "    }\n",
       "\n",
       "    .dataframe thead th {\n",
       "        text-align: right;\n",
       "    }\n",
       "</style>\n",
       "<table border=\"1\" class=\"dataframe\">\n",
       "  <thead>\n",
       "    <tr style=\"text-align: right;\">\n",
       "      <th></th>\n",
       "      <th>SubmissionDate</th>\n",
       "      <th>starttime</th>\n",
       "      <th>endtime</th>\n",
       "      <th>version</th>\n",
       "      <th>duration</th>\n",
       "      <th>survey_start</th>\n",
       "      <th>intro_start</th>\n",
       "      <th>district</th>\n",
       "      <th>Surveyor_Name</th>\n",
       "      <th>hhid_2</th>\n",
       "      <th>...</th>\n",
       "      <th>Season 2 Agriculture Value (Ugx)</th>\n",
       "      <th>Perennial Agriculture Value (Ugx)</th>\n",
       "      <th>Agriculture Income (UGX)</th>\n",
       "      <th>Livestock Income / Consumed (Ugx)</th>\n",
       "      <th>Livestock Asset Value (UGX)</th>\n",
       "      <th>HH Income (UGX)</th>\n",
       "      <th>HH Income + Consumption + Residues (UGX)</th>\n",
       "      <th>HH Income + Consumption+ Assets + Residues (UGX)</th>\n",
       "      <th>Treatment Status</th>\n",
       "      <th>Cohort</th>\n",
       "    </tr>\n",
       "  </thead>\n",
       "  <tbody>\n",
       "    <tr>\n",
       "      <th>10</th>\n",
       "      <td>Aug 8, 2022 7:48:54 PM</td>\n",
       "      <td>Aug 8, 2022 11:04:04 AM</td>\n",
       "      <td>Aug 8, 2022 11:53:42 AM</td>\n",
       "      <td>2208051941</td>\n",
       "      <td>2907</td>\n",
       "      <td>8.0</td>\n",
       "      <td>8.0</td>\n",
       "      <td>5</td>\n",
       "      <td>97</td>\n",
       "      <td>MIT-KAS-MOR-M7234</td>\n",
       "      <td>...</td>\n",
       "      <td>0.0</td>\n",
       "      <td>0.0</td>\n",
       "      <td>200000.0</td>\n",
       "      <td>0</td>\n",
       "      <td>0</td>\n",
       "      <td>220000.0</td>\n",
       "      <td>360000.0</td>\n",
       "      <td>360000.0</td>\n",
       "      <td>Treatment</td>\n",
       "      <td>2020</td>\n",
       "    </tr>\n",
       "    <tr>\n",
       "      <th>11</th>\n",
       "      <td>Aug 9, 2022 7:01:09 PM</td>\n",
       "      <td>Aug 9, 2022 2:12:29 PM</td>\n",
       "      <td>Aug 9, 2022 2:55:31 PM</td>\n",
       "      <td>2208051941</td>\n",
       "      <td>2522</td>\n",
       "      <td>5.0</td>\n",
       "      <td>5.0</td>\n",
       "      <td>5</td>\n",
       "      <td>96</td>\n",
       "      <td>MIT-RUR-LOI-M6286</td>\n",
       "      <td>...</td>\n",
       "      <td>0.0</td>\n",
       "      <td>70000.0</td>\n",
       "      <td>40000.0</td>\n",
       "      <td>0</td>\n",
       "      <td>0</td>\n",
       "      <td>210000.0</td>\n",
       "      <td>400000.0</td>\n",
       "      <td>400000.0</td>\n",
       "      <td>Treatment</td>\n",
       "      <td>2020</td>\n",
       "    </tr>\n",
       "    <tr>\n",
       "      <th>12</th>\n",
       "      <td>Aug 8, 2022 7:48:44 PM</td>\n",
       "      <td>Aug 8, 2022 2:10:29 PM</td>\n",
       "      <td>Aug 8, 2022 3:28:23 PM</td>\n",
       "      <td>2208051941</td>\n",
       "      <td>4349</td>\n",
       "      <td>9.0</td>\n",
       "      <td>9.0</td>\n",
       "      <td>5</td>\n",
       "      <td>97</td>\n",
       "      <td>MIT-KAS-OBE-M7102</td>\n",
       "      <td>...</td>\n",
       "      <td>0.0</td>\n",
       "      <td>0.0</td>\n",
       "      <td>260000.0</td>\n",
       "      <td>0</td>\n",
       "      <td>0</td>\n",
       "      <td>285000.0</td>\n",
       "      <td>415000.0</td>\n",
       "      <td>415000.0</td>\n",
       "      <td>Treatment</td>\n",
       "      <td>2020</td>\n",
       "    </tr>\n",
       "    <tr>\n",
       "      <th>13</th>\n",
       "      <td>Aug 6, 2022 2:58:43 PM</td>\n",
       "      <td>Aug 6, 2022 2:06:47 PM</td>\n",
       "      <td>Aug 6, 2022 2:29:18 PM</td>\n",
       "      <td>2208051941</td>\n",
       "      <td>1354</td>\n",
       "      <td>3.0</td>\n",
       "      <td>3.0</td>\n",
       "      <td>5</td>\n",
       "      <td>97</td>\n",
       "      <td>MIT-KAT-AIR-M4657</td>\n",
       "      <td>...</td>\n",
       "      <td>0.0</td>\n",
       "      <td>0.0</td>\n",
       "      <td>250000.0</td>\n",
       "      <td>0</td>\n",
       "      <td>0</td>\n",
       "      <td>250000.0</td>\n",
       "      <td>430000.0</td>\n",
       "      <td>430000.0</td>\n",
       "      <td>Treatment</td>\n",
       "      <td>2020</td>\n",
       "    </tr>\n",
       "    <tr>\n",
       "      <th>14</th>\n",
       "      <td>Aug 8, 2022 7:48:51 PM</td>\n",
       "      <td>Aug 8, 2022 9:53:35 AM</td>\n",
       "      <td>Aug 8, 2022 10:45:16 AM</td>\n",
       "      <td>2208051941</td>\n",
       "      <td>2883</td>\n",
       "      <td>6.0</td>\n",
       "      <td>6.0</td>\n",
       "      <td>5</td>\n",
       "      <td>97</td>\n",
       "      <td>MIT-KAS-BEN-M7240</td>\n",
       "      <td>...</td>\n",
       "      <td>134000.0</td>\n",
       "      <td>0.0</td>\n",
       "      <td>67000.0</td>\n",
       "      <td>0</td>\n",
       "      <td>9000</td>\n",
       "      <td>367000.0</td>\n",
       "      <td>434000.0</td>\n",
       "      <td>443000.0</td>\n",
       "      <td>Treatment</td>\n",
       "      <td>2020</td>\n",
       "    </tr>\n",
       "  </tbody>\n",
       "</table>\n",
       "<p>5 rows × 1410 columns</p>\n",
       "</div>"
      ],
      "text/plain": [
       "            SubmissionDate                starttime                  endtime  \\\n",
       "10  Aug 8, 2022 7:48:54 PM  Aug 8, 2022 11:04:04 AM  Aug 8, 2022 11:53:42 AM   \n",
       "11  Aug 9, 2022 7:01:09 PM   Aug 9, 2022 2:12:29 PM   Aug 9, 2022 2:55:31 PM   \n",
       "12  Aug 8, 2022 7:48:44 PM   Aug 8, 2022 2:10:29 PM   Aug 8, 2022 3:28:23 PM   \n",
       "13  Aug 6, 2022 2:58:43 PM   Aug 6, 2022 2:06:47 PM   Aug 6, 2022 2:29:18 PM   \n",
       "14  Aug 8, 2022 7:48:51 PM   Aug 8, 2022 9:53:35 AM  Aug 8, 2022 10:45:16 AM   \n",
       "\n",
       "       version  duration  survey_start  intro_start  district  Surveyor_Name  \\\n",
       "10  2208051941      2907           8.0          8.0         5             97   \n",
       "11  2208051941      2522           5.0          5.0         5             96   \n",
       "12  2208051941      4349           9.0          9.0         5             97   \n",
       "13  2208051941      1354           3.0          3.0         5             97   \n",
       "14  2208051941      2883           6.0          6.0         5             97   \n",
       "\n",
       "               hhid_2  ... Season 2 Agriculture Value (Ugx)  \\\n",
       "10  MIT-KAS-MOR-M7234  ...                              0.0   \n",
       "11  MIT-RUR-LOI-M6286  ...                              0.0   \n",
       "12  MIT-KAS-OBE-M7102  ...                              0.0   \n",
       "13  MIT-KAT-AIR-M4657  ...                              0.0   \n",
       "14  MIT-KAS-BEN-M7240  ...                         134000.0   \n",
       "\n",
       "    Perennial Agriculture Value (Ugx)  Agriculture Income (UGX)   \\\n",
       "10                                0.0                   200000.0   \n",
       "11                            70000.0                    40000.0   \n",
       "12                                0.0                   260000.0   \n",
       "13                                0.0                   250000.0   \n",
       "14                                0.0                    67000.0   \n",
       "\n",
       "    Livestock Income / Consumed (Ugx)  Livestock Asset Value (UGX)  \\\n",
       "10                                  0                            0   \n",
       "11                                  0                            0   \n",
       "12                                  0                            0   \n",
       "13                                  0                            0   \n",
       "14                                  0                         9000   \n",
       "\n",
       "    HH Income (UGX)  HH Income + Consumption + Residues (UGX)  \\\n",
       "10         220000.0                                  360000.0   \n",
       "11         210000.0                                  400000.0   \n",
       "12         285000.0                                  415000.0   \n",
       "13         250000.0                                  430000.0   \n",
       "14         367000.0                                  434000.0   \n",
       "\n",
       "    HH Income + Consumption+ Assets + Residues (UGX)  Treatment Status  Cohort  \n",
       "10                                          360000.0         Treatment    2020  \n",
       "11                                          400000.0         Treatment    2020  \n",
       "12                                          415000.0         Treatment    2020  \n",
       "13                                          430000.0         Treatment    2020  \n",
       "14                                          443000.0         Treatment    2020  \n",
       "\n",
       "[5 rows x 1410 columns]"
      ]
     },
     "execution_count": 12,
     "metadata": {},
     "output_type": "execute_result"
    }
   ],
   "source": [
    "df[10:15].head()"
   ]
  },
  {
   "cell_type": "code",
   "execution_count": 13,
   "id": "84732c2e",
   "metadata": {},
   "outputs": [
    {
     "name": "stdout",
     "output_type": "stream",
     "text": [
      "<class 'pandas.core.series.Series'>\n",
      "Int64Index: 4366 entries, 0 to 4595\n",
      "Series name: hhid_2\n",
      "Non-Null Count  Dtype \n",
      "--------------  ----- \n",
      "4366 non-null   object\n",
      "dtypes: object(1)\n",
      "memory usage: 68.2+ KB\n"
     ]
    }
   ],
   "source": [
    "df[\"hhid_2\"].info()"
   ]
  },
  {
   "cell_type": "code",
   "execution_count": 48,
   "id": "aebd6ee9",
   "metadata": {},
   "outputs": [
    {
     "data": {
      "text/plain": [
       "0        97\n",
       "1        76\n",
       "2       101\n",
       "3        97\n",
       "4        97\n",
       "       ... \n",
       "4590     76\n",
       "4591     74\n",
       "4592     73\n",
       "4593     79\n",
       "4595     73\n",
       "Name: Surveyor_Name, Length: 4366, dtype: int64"
      ]
     },
     "execution_count": 48,
     "metadata": {},
     "output_type": "execute_result"
    }
   ],
   "source": [
    "df[\"Surveyor_Name\"]"
   ]
  },
  {
   "cell_type": "code",
   "execution_count": 15,
   "id": "f30c5160",
   "metadata": {},
   "outputs": [
    {
     "data": {
      "text/plain": [
       "'MIT-KAS-MEB-M7121'"
      ]
     },
     "execution_count": 15,
     "metadata": {},
     "output_type": "execute_result"
    }
   ],
   "source": [
    "df[\"hhid_2\"][0]"
   ]
  },
  {
   "cell_type": "code",
   "execution_count": 49,
   "id": "bd0b44dc",
   "metadata": {},
   "outputs": [
    {
     "data": {
      "text/html": [
       "<div>\n",
       "<style scoped>\n",
       "    .dataframe tbody tr th:only-of-type {\n",
       "        vertical-align: middle;\n",
       "    }\n",
       "\n",
       "    .dataframe tbody tr th {\n",
       "        vertical-align: top;\n",
       "    }\n",
       "\n",
       "    .dataframe thead th {\n",
       "        text-align: right;\n",
       "    }\n",
       "</style>\n",
       "<table border=\"1\" class=\"dataframe\">\n",
       "  <thead>\n",
       "    <tr style=\"text-align: right;\">\n",
       "      <th></th>\n",
       "      <th>duration</th>\n",
       "    </tr>\n",
       "    <tr>\n",
       "      <th>Surveyor_Name</th>\n",
       "      <th></th>\n",
       "    </tr>\n",
       "  </thead>\n",
       "  <tbody>\n",
       "    <tr>\n",
       "      <th>1</th>\n",
       "      <td>3725.636364</td>\n",
       "    </tr>\n",
       "    <tr>\n",
       "      <th>2</th>\n",
       "      <td>3523.312500</td>\n",
       "    </tr>\n",
       "    <tr>\n",
       "      <th>3</th>\n",
       "      <td>4777.000000</td>\n",
       "    </tr>\n",
       "    <tr>\n",
       "      <th>4</th>\n",
       "      <td>2801.823529</td>\n",
       "    </tr>\n",
       "    <tr>\n",
       "      <th>5</th>\n",
       "      <td>3146.705882</td>\n",
       "    </tr>\n",
       "    <tr>\n",
       "      <th>...</th>\n",
       "      <td>...</td>\n",
       "    </tr>\n",
       "    <tr>\n",
       "      <th>105</th>\n",
       "      <td>3257.833333</td>\n",
       "    </tr>\n",
       "    <tr>\n",
       "      <th>112</th>\n",
       "      <td>3659.117647</td>\n",
       "    </tr>\n",
       "    <tr>\n",
       "      <th>113</th>\n",
       "      <td>5502.235294</td>\n",
       "    </tr>\n",
       "    <tr>\n",
       "      <th>122</th>\n",
       "      <td>4026.947368</td>\n",
       "    </tr>\n",
       "    <tr>\n",
       "      <th>155</th>\n",
       "      <td>2466.454545</td>\n",
       "    </tr>\n",
       "  </tbody>\n",
       "</table>\n",
       "<p>105 rows × 1 columns</p>\n",
       "</div>"
      ],
      "text/plain": [
       "                  duration\n",
       "Surveyor_Name             \n",
       "1              3725.636364\n",
       "2              3523.312500\n",
       "3              4777.000000\n",
       "4              2801.823529\n",
       "5              3146.705882\n",
       "...                    ...\n",
       "105            3257.833333\n",
       "112            3659.117647\n",
       "113            5502.235294\n",
       "122            4026.947368\n",
       "155            2466.454545\n",
       "\n",
       "[105 rows x 1 columns]"
      ]
     },
     "execution_count": 49,
     "metadata": {},
     "output_type": "execute_result"
    }
   ],
   "source": [
    "avr = df.groupby(\"Surveyor_Name\")[[\"duration\"]].mean()\n",
    "avr"
   ]
  },
  {
   "cell_type": "code",
   "execution_count": 53,
   "id": "9c4d93a8",
   "metadata": {},
   "outputs": [
    {
     "name": "stdout",
     "output_type": "stream",
     "text": [
      "Number of surveyors below average: 59\n",
      "Number of surveyors after average: 46\n"
     ]
    }
   ],
   "source": [
    "overall_average = df[\"duration\"].mean()\n",
    "counts = {\"Below average\": 0, \"After average\": 0}\n",
    "\n",
    "for time in avr[\"duration\"]:\n",
    "    if time < overall_average:\n",
    "        counts[\"Below average\"] += 1\n",
    "    else:\n",
    "        counts[\"After average\"] += 1\n",
    "\n",
    "# Print the number of surveys below and after the average\n",
    "print(f\"Number of surveyors below average: {counts['Below average']}\")\n",
    "print(f\"Number of surveyors after average: {counts['After average']}\")"
   ]
  },
  {
   "cell_type": "markdown",
   "id": "673b643d",
   "metadata": {},
   "source": [
    "## 4.Using the exchange rate of 1 USD: 3650 UGX, Compute daily HH income, HHincome+Consumption+Residues, and HH Income+Consumption+Assets+Residues forthe Control and Treatment. Using the variable Treatment Status, run a descriptive of your choice to compare the treatment and the control groups and interpret your results."
   ]
  },
  {
   "cell_type": "code",
   "execution_count": 17,
   "id": "90e7a4f3",
   "metadata": {},
   "outputs": [],
   "source": [
    "exchange_rate = 3650.0"
   ]
  },
  {
   "cell_type": "code",
   "execution_count": 18,
   "id": "b063e6b7",
   "metadata": {},
   "outputs": [
    {
     "data": {
      "text/plain": [
       "0        150000.0\n",
       "1        256000.0\n",
       "2        160000.0\n",
       "3        196000.0\n",
       "4        138500.0\n",
       "          ...    \n",
       "4590    1370000.0\n",
       "4591    6115000.0\n",
       "4592    4650000.0\n",
       "4593    4040000.0\n",
       "4595    5726000.0\n",
       "Name: HH Income (UGX), Length: 4366, dtype: float64"
      ]
     },
     "execution_count": 18,
     "metadata": {},
     "output_type": "execute_result"
    }
   ],
   "source": [
    "df[\"HH Income (UGX)\"]"
   ]
  },
  {
   "cell_type": "code",
   "execution_count": 19,
   "id": "3ab016e8",
   "metadata": {},
   "outputs": [
    {
     "name": "stderr",
     "output_type": "stream",
     "text": [
      "/tmp/ipykernel_144/3386747245.py:2: SettingWithCopyWarning: \n",
      "A value is trying to be set on a copy of a slice from a DataFrame.\n",
      "Try using .loc[row_indexer,col_indexer] = value instead\n",
      "\n",
      "See the caveats in the documentation: https://pandas.pydata.org/pandas-docs/stable/user_guide/indexing.html#returning-a-view-versus-a-copy\n",
      "  df[\"income_only\"] = df[\"HH Income (UGX)\"] / exchange_rate\n"
     ]
    },
    {
     "data": {
      "text/plain": [
       "0         41.095890\n",
       "1         70.136986\n",
       "2         43.835616\n",
       "3         53.698630\n",
       "4         37.945205\n",
       "           ...     \n",
       "4590     375.342466\n",
       "4591    1675.342466\n",
       "4592    1273.972603\n",
       "4593    1106.849315\n",
       "4595    1568.767123\n",
       "Name: income_only, Length: 4366, dtype: float64"
      ]
     },
     "execution_count": 19,
     "metadata": {},
     "output_type": "execute_result"
    }
   ],
   "source": [
    "# Calculate daily HH income and add to table\n",
    "df[\"income_only\"] = df[\"HH Income (UGX)\"] / exchange_rate\n",
    "df[\"income_only\"]"
   ]
  },
  {
   "cell_type": "code",
   "execution_count": 20,
   "id": "f5d7bf9d",
   "metadata": {},
   "outputs": [
    {
     "name": "stderr",
     "output_type": "stream",
     "text": [
      "/tmp/ipykernel_144/3834879864.py:1: SettingWithCopyWarning: \n",
      "A value is trying to be set on a copy of a slice from a DataFrame.\n",
      "Try using .loc[row_indexer,col_indexer] = value instead\n",
      "\n",
      "See the caveats in the documentation: https://pandas.pydata.org/pandas-docs/stable/user_guide/indexing.html#returning-a-view-versus-a-copy\n",
      "  df[\"income_consumption_residues\"] = df['HH Income + Consumption + Residues (UGX)']/exchange_rate\n"
     ]
    },
    {
     "data": {
      "text/plain": [
       "0         68.493151\n",
       "1         70.136986\n",
       "2         73.150685\n",
       "3         74.520548\n",
       "4         77.808219\n",
       "           ...     \n",
       "4590     803.835616\n",
       "4591    2021.917808\n",
       "4592    1824.657534\n",
       "4593    2160.547945\n",
       "4595    2465.205479\n",
       "Name: income_consumption_residues, Length: 4366, dtype: float64"
      ]
     },
     "execution_count": 20,
     "metadata": {},
     "output_type": "execute_result"
    }
   ],
   "source": [
    "df[\"income_consumption_residues\"] = df['HH Income + Consumption + Residues (UGX)']/exchange_rate\n",
    "df[\"income_consumption_residues\"]"
   ]
  },
  {
   "cell_type": "code",
   "execution_count": 21,
   "id": "e9b33bd4",
   "metadata": {},
   "outputs": [
    {
     "name": "stderr",
     "output_type": "stream",
     "text": [
      "/tmp/ipykernel_144/298558903.py:1: SettingWithCopyWarning: \n",
      "A value is trying to be set on a copy of a slice from a DataFrame.\n",
      "Try using .loc[row_indexer,col_indexer] = value instead\n",
      "\n",
      "See the caveats in the documentation: https://pandas.pydata.org/pandas-docs/stable/user_guide/indexing.html#returning-a-view-versus-a-copy\n",
      "  df[\"income_consumption_assets_residues\"] = df['HH Income + Consumption+ Assets + Residues (UGX)'] / exchange_rate\n"
     ]
    },
    {
     "data": {
      "text/plain": [
       "0         68.493151\n",
       "1         70.136986\n",
       "2         73.150685\n",
       "3         74.520548\n",
       "4         77.808219\n",
       "           ...     \n",
       "4590    2214.794521\n",
       "4591    2257.534247\n",
       "4592    2456.986301\n",
       "4593    2516.712329\n",
       "4595    2661.369863\n",
       "Name: income_consumption_assets_residues, Length: 4366, dtype: float64"
      ]
     },
     "execution_count": 21,
     "metadata": {},
     "output_type": "execute_result"
    }
   ],
   "source": [
    "df[\"income_consumption_assets_residues\"] = df['HH Income + Consumption+ Assets + Residues (UGX)'] / exchange_rate\n",
    "df[\"income_consumption_assets_residues\"]"
   ]
  },
  {
   "cell_type": "code",
   "execution_count": 22,
   "id": "fcc45dcc",
   "metadata": {},
   "outputs": [
    {
     "data": {
      "text/html": [
       "<div>\n",
       "<style scoped>\n",
       "    .dataframe tbody tr th:only-of-type {\n",
       "        vertical-align: middle;\n",
       "    }\n",
       "\n",
       "    .dataframe tbody tr th {\n",
       "        vertical-align: top;\n",
       "    }\n",
       "\n",
       "    .dataframe thead th {\n",
       "        text-align: right;\n",
       "    }\n",
       "</style>\n",
       "<table border=\"1\" class=\"dataframe\">\n",
       "  <thead>\n",
       "    <tr style=\"text-align: right;\">\n",
       "      <th></th>\n",
       "      <th>income_only</th>\n",
       "      <th>income_consumption_residues</th>\n",
       "      <th>income_consumption_assets_residues</th>\n",
       "    </tr>\n",
       "    <tr>\n",
       "      <th>Treatment Status</th>\n",
       "      <th></th>\n",
       "      <th></th>\n",
       "      <th></th>\n",
       "    </tr>\n",
       "  </thead>\n",
       "  <tbody>\n",
       "    <tr>\n",
       "      <th>Control</th>\n",
       "      <td>378.404261</td>\n",
       "      <td>621.834012</td>\n",
       "      <td>767.385443</td>\n",
       "    </tr>\n",
       "    <tr>\n",
       "      <th>Treatment</th>\n",
       "      <td>541.193533</td>\n",
       "      <td>857.590508</td>\n",
       "      <td>1082.044360</td>\n",
       "    </tr>\n",
       "  </tbody>\n",
       "</table>\n",
       "</div>"
      ],
      "text/plain": [
       "                  income_only  income_consumption_residues  \\\n",
       "Treatment Status                                             \n",
       "Control            378.404261                   621.834012   \n",
       "Treatment          541.193533                   857.590508   \n",
       "\n",
       "                  income_consumption_assets_residues  \n",
       "Treatment Status                                      \n",
       "Control                                   767.385443  \n",
       "Treatment                                1082.044360  "
      ]
     },
     "execution_count": 22,
     "metadata": {},
     "output_type": "execute_result"
    }
   ],
   "source": [
    "df.groupby('Treatment Status')[['income_only','income_consumption_residues','income_consumption_assets_residues']].mean()"
   ]
  },
  {
   "cell_type": "markdown",
   "id": "66b51cf3",
   "metadata": {},
   "source": [
    "Using the mean value, the mean value for all the treatment groups is having a poitive impact on HH income"
   ]
  },
  {
   "cell_type": "markdown",
   "id": "2620947d",
   "metadata": {},
   "source": [
    "## 4. What is the contribution of Formal Employment (Ugx), Personal Business & Self Employment (Ugx), Casual Labour (Ugx), Remittances & Gifts (Ugx) and Agriculture Income (UGX) to HH income (UGX)? What are your key takeaways from this analysis"
   ]
  },
  {
   "cell_type": "code",
   "execution_count": 23,
   "id": "e60367c6",
   "metadata": {},
   "outputs": [],
   "source": [
    "contributions = df[[\"Formal Employment (Ugx)\", \"Personal Business & Self Employment (Ugx)\", \n",
    "    \"Casual Labour (Ugx)\", \"Remittances & Gifts (Ugx)\", \"Agriculture Income (UGX) \"]]"
   ]
  },
  {
   "cell_type": "code",
   "execution_count": 24,
   "id": "edcbc060",
   "metadata": {},
   "outputs": [],
   "source": [
    "# Calculate the total HH income\n",
    "total_hh_income = data[\"HH Income (UGX)\"].sum()"
   ]
  },
  {
   "cell_type": "code",
   "execution_count": 25,
   "id": "8826d85c",
   "metadata": {},
   "outputs": [],
   "source": [
    "# Calculate the percentage contribution of each source of income\n",
    "percentage_contributions = contributions.sum() / total_hh_income"
   ]
  },
  {
   "cell_type": "code",
   "execution_count": 26,
   "id": "68727578",
   "metadata": {},
   "outputs": [
    {
     "data": {
      "text/plain": [
       "Formal Employment (Ugx)                       5.818197\n",
       "Personal Business & Self Employment (Ugx)    10.416930\n",
       "Casual Labour (Ugx)                          16.870779\n",
       "Remittances & Gifts (Ugx)                     5.048275\n",
       "Agriculture Income (UGX)                     39.648799\n",
       "dtype: float64"
      ]
     },
     "execution_count": 26,
     "metadata": {},
     "output_type": "execute_result"
    }
   ],
   "source": [
    "# Print the results\n",
    "percentage_contributions * 100"
   ]
  },
  {
   "cell_type": "markdown",
   "id": "b88a8e70",
   "metadata": {},
   "source": [
    "Agriculture Income hold the highest contribution to HH Income of 39% where as Formal Employment (Ugx)  and Agriculture Income (UGX)  hold the least of about 5%"
   ]
  },
  {
   "cell_type": "markdown",
   "id": "ec85c81b",
   "metadata": {},
   "source": [
    "## 5. Considering that each respondent represents an entire household, compute the Return on Investment (ROI) using the variable HH Income UGX. (Note: RTV invests 10 dollars per household and Ugx to dollar rate is 3650"
   ]
  },
  {
   "cell_type": "code",
   "execution_count": 27,
   "id": "15b93679",
   "metadata": {},
   "outputs": [
    {
     "data": {
      "text/plain": [
       "0        150000.0\n",
       "1        256000.0\n",
       "2        160000.0\n",
       "3        196000.0\n",
       "4        138500.0\n",
       "          ...    \n",
       "4590    1370000.0\n",
       "4591    6115000.0\n",
       "4592    4650000.0\n",
       "4593    4040000.0\n",
       "4595    5726000.0\n",
       "Name: HH Income (UGX), Length: 4366, dtype: float64"
      ]
     },
     "execution_count": 27,
     "metadata": {},
     "output_type": "execute_result"
    }
   ],
   "source": [
    "df['HH Income (UGX)']"
   ]
  },
  {
   "cell_type": "code",
   "execution_count": 55,
   "id": "5928285d",
   "metadata": {},
   "outputs": [
    {
     "name": "stdout",
     "output_type": "stream",
     "text": [
      "The roi is $ 49.74\n"
     ]
    }
   ],
   "source": [
    "# Convert the investment amount to UGX\n",
    "investment_amount = 10 * 3650\n",
    "\n",
    "# Calculate the ROI\n",
    "roi = (df[\"HH Income (UGX)\"].mean() - investment_amount) / investment_amount\n",
    "\n",
    "# Print the results\n",
    "print(f\"The roi is $ {roi:.2f}\")"
   ]
  },
  {
   "cell_type": "markdown",
   "id": "16937a50",
   "metadata": {},
   "source": [
    "## 6. Using key of variables (atleast 5 variables) of your choice, run a regression analysis to determine the predicators of Agriculture income, explain the reason behind the choice of your variables and also interpret your results?"
   ]
  },
  {
   "cell_type": "code",
   "execution_count": 29,
   "id": "6b489817",
   "metadata": {},
   "outputs": [
    {
     "data": {
      "text/plain": [
       "0        100000.0\n",
       "1             0.0\n",
       "2             0.0\n",
       "3        196000.0\n",
       "4         58500.0\n",
       "          ...    \n",
       "4590    1140000.0\n",
       "4591    2415000.0\n",
       "4592    3480000.0\n",
       "4593    3860000.0\n",
       "4595    5696000.0\n",
       "Name: Agriculture Income (UGX) , Length: 4366, dtype: float64"
      ]
     },
     "execution_count": 29,
     "metadata": {},
     "output_type": "execute_result"
    }
   ],
   "source": [
    "df[\"Agriculture Income (UGX) \"]"
   ]
  },
  {
   "cell_type": "code",
   "execution_count": 35,
   "id": "8a47910f",
   "metadata": {},
   "outputs": [
    {
     "data": {
      "text/plain": [
       "SubmissionDate                          Aug 1, 2022 6:56:56 PM\n",
       "starttime                               Aug 4, 2022 3:04:35 PM\n",
       "endtime                               Aug 10, 2022 12:18:26 PM\n",
       "version                                           2208051941.0\n",
       "duration                                                2521.0\n",
       "                                                ...           \n",
       "Treatment Status                                     Treatment\n",
       "Cohort                                                  2020.0\n",
       "income_only                                         164.383562\n",
       "income_consumption_residues                         353.424658\n",
       "income_consumption_assets_residues                  317.808219\n",
       "Name: 0, Length: 1413, dtype: object"
      ]
     },
     "execution_count": 35,
     "metadata": {},
     "output_type": "execute_result"
    }
   ],
   "source": [
    "modes = df.mode().iloc[0]\n",
    "modes"
   ]
  },
  {
   "cell_type": "code",
   "execution_count": 36,
   "id": "d80abcfb",
   "metadata": {},
   "outputs": [
    {
     "name": "stderr",
     "output_type": "stream",
     "text": [
      "/tmp/ipykernel_144/703695390.py:1: SettingWithCopyWarning: \n",
      "A value is trying to be set on a copy of a slice from a DataFrame.\n",
      "Try using .loc[row_indexer,col_indexer] = value instead\n",
      "\n",
      "See the caveats in the documentation: https://pandas.pydata.org/pandas-docs/stable/user_guide/indexing.html#returning-a-view-versus-a-copy\n",
      "  df.fillna(modes, inplace=True)\n"
     ]
    }
   ],
   "source": [
    "df.fillna(modes, inplace=True)"
   ]
  },
  {
   "cell_type": "code",
   "execution_count": 38,
   "id": "91d00842",
   "metadata": {},
   "outputs": [],
   "source": [
    "variables = [\"GPS-Latitude\", \"duration\", \"Livestock Asset Value (UGX)\", \"Livestock Income / Consumed (Ugx)\", \"s1_total_yield_Yams\"]\n",
    "\n",
    "# Create a new DataFrame with the chosen variables\n",
    "X = df[variables]\n",
    "\n",
    "# Create a new variable for Agriculture Income\n",
    "y = df[\"Agriculture Income (UGX) \"]"
   ]
  },
  {
   "cell_type": "code",
   "execution_count": 32,
   "id": "dc97bbf0",
   "metadata": {},
   "outputs": [
    {
     "name": "stdout",
     "output_type": "stream",
     "text": [
      "Collecting statsmodels\n",
      "  Downloading statsmodels-0.14.0-cp39-cp39-manylinux_2_17_x86_64.manylinux2014_x86_64.whl (10.1 MB)\n",
      "\u001b[2K     \u001b[90m━━━━━━━━━━━━━━━━━━━━━━━━━━━━━━━━━━━━━━━━\u001b[0m \u001b[32m10.1/10.1 MB\u001b[0m \u001b[31m35.2 MB/s\u001b[0m eta \u001b[36m0:00:00\u001b[0m00:01\u001b[0m0:01\u001b[0m\n",
      "\u001b[?25hRequirement already satisfied: pandas>=1.0 in /usr/local/lib/python3.9/dist-packages (from statsmodels) (1.4.3)\n",
      "Requirement already satisfied: packaging>=21.3 in /usr/local/lib/python3.9/dist-packages (from statsmodels) (21.3)\n",
      "Requirement already satisfied: scipy!=1.9.2,>=1.4 in /usr/local/lib/python3.9/dist-packages (from statsmodels) (1.8.1)\n",
      "Collecting patsy>=0.5.2\n",
      "  Downloading patsy-0.5.3-py2.py3-none-any.whl (233 kB)\n",
      "\u001b[2K     \u001b[90m━━━━━━━━━━━━━━━━━━━━━━━━━━━━━━━━━━━━━━\u001b[0m \u001b[32m233.8/233.8 kB\u001b[0m \u001b[31m19.3 MB/s\u001b[0m eta \u001b[36m0:00:00\u001b[0m\n",
      "\u001b[?25hRequirement already satisfied: numpy>=1.18 in /usr/local/lib/python3.9/dist-packages (from statsmodels) (1.23.1)\n",
      "Requirement already satisfied: pyparsing!=3.0.5,>=2.0.2 in /storage/cfg/.local/lib/python3.9/site-packages (from packaging>=21.3->statsmodels) (2.4.7)\n",
      "Requirement already satisfied: python-dateutil>=2.8.1 in /usr/local/lib/python3.9/dist-packages (from pandas>=1.0->statsmodels) (2.8.2)\n",
      "Requirement already satisfied: pytz>=2020.1 in /usr/local/lib/python3.9/dist-packages (from pandas>=1.0->statsmodels) (2022.1)\n",
      "Requirement already satisfied: six in /usr/lib/python3/dist-packages (from patsy>=0.5.2->statsmodels) (1.14.0)\n",
      "Installing collected packages: patsy, statsmodels\n",
      "Successfully installed patsy-0.5.3 statsmodels-0.14.0\n",
      "\u001b[33mWARNING: Running pip as the 'root' user can result in broken permissions and conflicting behaviour with the system package manager. It is recommended to use a virtual environment instead: https://pip.pypa.io/warnings/venv\u001b[0m\u001b[33m\n",
      "\u001b[0m"
     ]
    }
   ],
   "source": [
    "!pip install statsmodels"
   ]
  },
  {
   "cell_type": "code",
   "execution_count": 39,
   "id": "9e66dad7",
   "metadata": {},
   "outputs": [],
   "source": [
    "import statsmodels.api as sm\n",
    "model = sm.OLS(y, X)\n",
    "results = model.fit()"
   ]
  },
  {
   "cell_type": "code",
   "execution_count": 40,
   "id": "574e23d1",
   "metadata": {},
   "outputs": [
    {
     "name": "stdout",
     "output_type": "stream",
     "text": [
      "                                    OLS Regression Results                                    \n",
      "==============================================================================================\n",
      "Dep. Variable:     Agriculture Income (UGX)    R-squared (uncentered):                   0.432\n",
      "Model:                                   OLS   Adj. R-squared (uncentered):              0.431\n",
      "Method:                        Least Squares   F-statistic:                              662.9\n",
      "Date:                       Thu, 22 Jun 2023   Prob (F-statistic):                        0.00\n",
      "Time:                               06:50:00   Log-Likelihood:                         -66545.\n",
      "No. Observations:                       4366   AIC:                                  1.331e+05\n",
      "Df Residuals:                           4361   BIC:                                  1.331e+05\n",
      "Df Model:                                  5                                                  \n",
      "Covariance Type:                   nonrobust                                                  \n",
      "=====================================================================================================\n",
      "                                        coef    std err          t      P>|t|      [0.025      0.975]\n",
      "-----------------------------------------------------------------------------------------------------\n",
      "GPS-Latitude                       -2.09e+05    3.3e+04     -6.337      0.000   -2.74e+05   -1.44e+05\n",
      "duration                            169.8625      8.893     19.100      0.000     152.427     187.298\n",
      "Livestock Asset Value (UGX)           0.1077      0.013      8.277      0.000       0.082       0.133\n",
      "Livestock Income / Consumed (Ugx)     0.1759      0.053      3.342      0.001       0.073       0.279\n",
      "s1_total_yield_Yams                3.592e+04   4339.304      8.278      0.000    2.74e+04    4.44e+04\n",
      "==============================================================================\n",
      "Omnibus:                     1438.918   Durbin-Watson:                   1.472\n",
      "Prob(Omnibus):                  0.000   Jarque-Bera (JB):             4602.141\n",
      "Skew:                           1.686   Prob(JB):                         0.00\n",
      "Kurtosis:                       6.732   Cond. No.                     3.22e+06\n",
      "==============================================================================\n",
      "\n",
      "Notes:\n",
      "[1] R² is computed without centering (uncentered) since the model does not contain a constant.\n",
      "[2] Standard Errors assume that the covariance matrix of the errors is correctly specified.\n",
      "[3] The condition number is large, 3.22e+06. This might indicate that there are\n",
      "strong multicollinearity or other numerical problems.\n"
     ]
    }
   ],
   "source": [
    "print(results.summary())"
   ]
  },
  {
   "cell_type": "markdown",
   "id": "c029cf57",
   "metadata": {},
   "source": [
    "- The independent variables explain 43% of the variation in the dependent variable."
   ]
  },
  {
   "cell_type": "markdown",
   "id": "9b9cf270",
   "metadata": {},
   "source": [
    "## 8. Comment about the relationship between HH Income, Time_to_collect_Water_for_Household_use_Minutes and Distance_Travelled_to_Collect_Water_Round_Trip ?"
   ]
  },
  {
   "cell_type": "code",
   "execution_count": 42,
   "id": "9459fbe8",
   "metadata": {},
   "outputs": [
    {
     "data": {
      "text/html": [
       "<div>\n",
       "<style scoped>\n",
       "    .dataframe tbody tr th:only-of-type {\n",
       "        vertical-align: middle;\n",
       "    }\n",
       "\n",
       "    .dataframe tbody tr th {\n",
       "        vertical-align: top;\n",
       "    }\n",
       "\n",
       "    .dataframe thead th {\n",
       "        text-align: right;\n",
       "    }\n",
       "</style>\n",
       "<table border=\"1\" class=\"dataframe\">\n",
       "  <thead>\n",
       "    <tr style=\"text-align: right;\">\n",
       "      <th></th>\n",
       "      <th>HH Income (UGX)</th>\n",
       "      <th>Time_to_collect_Water_for_Household_use_Minutes</th>\n",
       "      <th>Distance_Travelled_to_Collect_Water_Round_Trip</th>\n",
       "    </tr>\n",
       "  </thead>\n",
       "  <tbody>\n",
       "    <tr>\n",
       "      <th>HH Income (UGX)</th>\n",
       "      <td>1.000000</td>\n",
       "      <td>-0.044235</td>\n",
       "      <td>-0.018684</td>\n",
       "    </tr>\n",
       "    <tr>\n",
       "      <th>Time_to_collect_Water_for_Household_use_Minutes</th>\n",
       "      <td>-0.044235</td>\n",
       "      <td>1.000000</td>\n",
       "      <td>0.042950</td>\n",
       "    </tr>\n",
       "    <tr>\n",
       "      <th>Distance_Travelled_to_Collect_Water_Round_Trip</th>\n",
       "      <td>-0.018684</td>\n",
       "      <td>0.042950</td>\n",
       "      <td>1.000000</td>\n",
       "    </tr>\n",
       "  </tbody>\n",
       "</table>\n",
       "</div>"
      ],
      "text/plain": [
       "                                                 HH Income (UGX)  \\\n",
       "HH Income (UGX)                                         1.000000   \n",
       "Time_to_collect_Water_for_Household_use_Minutes        -0.044235   \n",
       "Distance_Travelled_to_Collect_Water_Round_Trip         -0.018684   \n",
       "\n",
       "                                                 Time_to_collect_Water_for_Household_use_Minutes  \\\n",
       "HH Income (UGX)                                                                        -0.044235   \n",
       "Time_to_collect_Water_for_Household_use_Minutes                                         1.000000   \n",
       "Distance_Travelled_to_Collect_Water_Round_Trip                                          0.042950   \n",
       "\n",
       "                                                 Distance_Travelled_to_Collect_Water_Round_Trip  \n",
       "HH Income (UGX)                                                                       -0.018684  \n",
       "Time_to_collect_Water_for_Household_use_Minutes                                        0.042950  \n",
       "Distance_Travelled_to_Collect_Water_Round_Trip                                         1.000000  "
      ]
     },
     "execution_count": 42,
     "metadata": {},
     "output_type": "execute_result"
    }
   ],
   "source": [
    "df[[\"HH Income (UGX)\", \"Time_to_collect_Water_for_Household_use_Minutes\", \"Distance_Travelled_to_Collect_Water_Round_Trip\"]].corr()"
   ]
  },
  {
   "cell_type": "markdown",
   "id": "86bd4005",
   "metadata": {},
   "source": [
    "Both Time to colllect water for Household use Minutes and distance travelled to collect water round trip have a weak negative correlation with HH Income. "
   ]
  },
  {
   "cell_type": "markdown",
   "id": "eea402d2",
   "metadata": {},
   "source": [
    "Implying that a slight change in HH Income leads to a slight decrease in both Time to colllect water for Household use Minutes and distance and vice versa"
   ]
  }
 ],
 "metadata": {
  "kernelspec": {
   "display_name": "Python 3 (ipykernel)",
   "language": "python",
   "name": "python3"
  },
  "language_info": {
   "codemirror_mode": {
    "name": "ipython",
    "version": 3
   },
   "file_extension": ".py",
   "mimetype": "text/x-python",
   "name": "python",
   "nbconvert_exporter": "python",
   "pygments_lexer": "ipython3",
   "version": "3.9.13"
  }
 },
 "nbformat": 4,
 "nbformat_minor": 5
}
