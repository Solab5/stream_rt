{
 "cells": [
  {
   "cell_type": "code",
   "execution_count": 1,
   "id": "2888c264",
   "metadata": {},
   "outputs": [],
   "source": [
    "import pandas as pd\n",
    "import numpy as np"
   ]
  },
  {
   "cell_type": "code",
   "execution_count": 115,
   "id": "7c7323e6",
   "metadata": {},
   "outputs": [
    {
     "data": {
      "text/html": [
       "<div>\n",
       "<style scoped>\n",
       "    .dataframe tbody tr th:only-of-type {\n",
       "        vertical-align: middle;\n",
       "    }\n",
       "\n",
       "    .dataframe tbody tr th {\n",
       "        vertical-align: top;\n",
       "    }\n",
       "\n",
       "    .dataframe thead th {\n",
       "        text-align: right;\n",
       "    }\n",
       "</style>\n",
       "<table border=\"1\" class=\"dataframe\">\n",
       "  <thead>\n",
       "    <tr style=\"text-align: right;\">\n",
       "      <th></th>\n",
       "      <th>SubmissionDate</th>\n",
       "      <th>starttime</th>\n",
       "      <th>endtime</th>\n",
       "      <th>version</th>\n",
       "      <th>duration</th>\n",
       "      <th>survey_start</th>\n",
       "      <th>intro_start</th>\n",
       "      <th>district</th>\n",
       "      <th>Surveyor_Name</th>\n",
       "      <th>hhid_2</th>\n",
       "      <th>...</th>\n",
       "      <th>Season 2 Agriculture Value (Ugx)</th>\n",
       "      <th>Perennial Agriculture Value (Ugx)</th>\n",
       "      <th>Agriculture Income (UGX)</th>\n",
       "      <th>Livestock Income / Consumed (Ugx)</th>\n",
       "      <th>Livestock Asset Value (UGX)</th>\n",
       "      <th>HH Income (UGX)</th>\n",
       "      <th>HH Income + Consumption + Residues (UGX)</th>\n",
       "      <th>HH Income + Consumption+ Assets + Residues (UGX)</th>\n",
       "      <th>Treatment Status</th>\n",
       "      <th>Cohort</th>\n",
       "    </tr>\n",
       "  </thead>\n",
       "  <tbody>\n",
       "    <tr>\n",
       "      <th>0</th>\n",
       "      <td>Aug 8, 2022 7:49:13 PM</td>\n",
       "      <td>Aug 8, 2022 1:17:13 PM</td>\n",
       "      <td>Aug 8, 2022 1:58:34 PM</td>\n",
       "      <td>2208051941</td>\n",
       "      <td>2455</td>\n",
       "      <td>3.0</td>\n",
       "      <td>3.0</td>\n",
       "      <td>5</td>\n",
       "      <td>97</td>\n",
       "      <td>MIT-KAS-MEB-M7121</td>\n",
       "      <td>...</td>\n",
       "      <td>200000.0</td>\n",
       "      <td>0.0</td>\n",
       "      <td>100000.0</td>\n",
       "      <td>0</td>\n",
       "      <td>0</td>\n",
       "      <td>150000</td>\n",
       "      <td>250000.0</td>\n",
       "      <td>250000.0</td>\n",
       "      <td>Treatment</td>\n",
       "      <td>2020</td>\n",
       "    </tr>\n",
       "    <tr>\n",
       "      <th>1</th>\n",
       "      <td>Aug 2, 2022 10:26:09 PM</td>\n",
       "      <td>Aug 2, 2022 5:05:50 PM</td>\n",
       "      <td>Aug 2, 2022 5:37:13 PM</td>\n",
       "      <td>2208012232</td>\n",
       "      <td>1497</td>\n",
       "      <td>3.0</td>\n",
       "      <td>3.0</td>\n",
       "      <td>5</td>\n",
       "      <td>76</td>\n",
       "      <td>MIT-ITA-BRI-M9815</td>\n",
       "      <td>...</td>\n",
       "      <td>0.0</td>\n",
       "      <td>0.0</td>\n",
       "      <td>0.0</td>\n",
       "      <td>0</td>\n",
       "      <td>0</td>\n",
       "      <td>256000</td>\n",
       "      <td>256000.0</td>\n",
       "      <td>256000.0</td>\n",
       "      <td>Treatment</td>\n",
       "      <td>2020</td>\n",
       "    </tr>\n",
       "    <tr>\n",
       "      <th>2</th>\n",
       "      <td>Aug 9, 2022 7:33:35 PM</td>\n",
       "      <td>Aug 9, 2022 3:39:53 PM</td>\n",
       "      <td>Aug 9, 2022 4:22:40 PM</td>\n",
       "      <td>2208051941</td>\n",
       "      <td>2548</td>\n",
       "      <td>5.0</td>\n",
       "      <td>5.0</td>\n",
       "      <td>5</td>\n",
       "      <td>101</td>\n",
       "      <td>MIT-NYA-KED-M6525</td>\n",
       "      <td>...</td>\n",
       "      <td>0.0</td>\n",
       "      <td>60000.0</td>\n",
       "      <td>0.0</td>\n",
       "      <td>0</td>\n",
       "      <td>0</td>\n",
       "      <td>160000</td>\n",
       "      <td>267000.0</td>\n",
       "      <td>267000.0</td>\n",
       "      <td>Treatment</td>\n",
       "      <td>2020</td>\n",
       "    </tr>\n",
       "    <tr>\n",
       "      <th>3</th>\n",
       "      <td>Aug 6, 2022 2:58:42 PM</td>\n",
       "      <td>Aug 6, 2022 1:29:08 PM</td>\n",
       "      <td>Aug 6, 2022 2:49:20 PM</td>\n",
       "      <td>2208051941</td>\n",
       "      <td>2171</td>\n",
       "      <td>4.0</td>\n",
       "      <td>4.0</td>\n",
       "      <td>5</td>\n",
       "      <td>97</td>\n",
       "      <td>MIT-KAT-AFR-M7293</td>\n",
       "      <td>...</td>\n",
       "      <td>0.0</td>\n",
       "      <td>0.0</td>\n",
       "      <td>196000.0</td>\n",
       "      <td>0</td>\n",
       "      <td>0</td>\n",
       "      <td>196000</td>\n",
       "      <td>272000.0</td>\n",
       "      <td>272000.0</td>\n",
       "      <td>Treatment</td>\n",
       "      <td>2020</td>\n",
       "    </tr>\n",
       "    <tr>\n",
       "      <th>4</th>\n",
       "      <td>Aug 5, 2022 10:27:34 PM</td>\n",
       "      <td>Aug 5, 2022 1:10:14 PM</td>\n",
       "      <td>Aug 5, 2022 1:41:17 PM</td>\n",
       "      <td>2208050902</td>\n",
       "      <td>1861</td>\n",
       "      <td>5.0</td>\n",
       "      <td>5.0</td>\n",
       "      <td>5</td>\n",
       "      <td>97</td>\n",
       "      <td>MIT-BUH-ASA-M13934</td>\n",
       "      <td>...</td>\n",
       "      <td>0.0</td>\n",
       "      <td>0.0</td>\n",
       "      <td>58500.0</td>\n",
       "      <td>0</td>\n",
       "      <td>0</td>\n",
       "      <td>138500</td>\n",
       "      <td>284000.0</td>\n",
       "      <td>284000.0</td>\n",
       "      <td>Treatment</td>\n",
       "      <td>2020</td>\n",
       "    </tr>\n",
       "  </tbody>\n",
       "</table>\n",
       "<p>5 rows × 1410 columns</p>\n",
       "</div>"
      ],
      "text/plain": [
       "            SubmissionDate               starttime                 endtime  \\\n",
       "0   Aug 8, 2022 7:49:13 PM  Aug 8, 2022 1:17:13 PM  Aug 8, 2022 1:58:34 PM   \n",
       "1  Aug 2, 2022 10:26:09 PM  Aug 2, 2022 5:05:50 PM  Aug 2, 2022 5:37:13 PM   \n",
       "2   Aug 9, 2022 7:33:35 PM  Aug 9, 2022 3:39:53 PM  Aug 9, 2022 4:22:40 PM   \n",
       "3   Aug 6, 2022 2:58:42 PM  Aug 6, 2022 1:29:08 PM  Aug 6, 2022 2:49:20 PM   \n",
       "4  Aug 5, 2022 10:27:34 PM  Aug 5, 2022 1:10:14 PM  Aug 5, 2022 1:41:17 PM   \n",
       "\n",
       "      version  duration  survey_start  intro_start  district  Surveyor_Name  \\\n",
       "0  2208051941      2455           3.0          3.0         5             97   \n",
       "1  2208012232      1497           3.0          3.0         5             76   \n",
       "2  2208051941      2548           5.0          5.0         5            101   \n",
       "3  2208051941      2171           4.0          4.0         5             97   \n",
       "4  2208050902      1861           5.0          5.0         5             97   \n",
       "\n",
       "               hhid_2  ... Season 2 Agriculture Value (Ugx)  \\\n",
       "0   MIT-KAS-MEB-M7121  ...                         200000.0   \n",
       "1   MIT-ITA-BRI-M9815  ...                              0.0   \n",
       "2   MIT-NYA-KED-M6525  ...                              0.0   \n",
       "3   MIT-KAT-AFR-M7293  ...                              0.0   \n",
       "4  MIT-BUH-ASA-M13934  ...                              0.0   \n",
       "\n",
       "   Perennial Agriculture Value (Ugx)  Agriculture Income (UGX)   \\\n",
       "0                                0.0                   100000.0   \n",
       "1                                0.0                        0.0   \n",
       "2                            60000.0                        0.0   \n",
       "3                                0.0                   196000.0   \n",
       "4                                0.0                    58500.0   \n",
       "\n",
       "   Livestock Income / Consumed (Ugx)  Livestock Asset Value (UGX)  \\\n",
       "0                                  0                            0   \n",
       "1                                  0                            0   \n",
       "2                                  0                            0   \n",
       "3                                  0                            0   \n",
       "4                                  0                            0   \n",
       "\n",
       "   HH Income (UGX)  HH Income + Consumption + Residues (UGX)  \\\n",
       "0           150000                                  250000.0   \n",
       "1           256000                                  256000.0   \n",
       "2           160000                                  267000.0   \n",
       "3           196000                                  272000.0   \n",
       "4           138500                                  284000.0   \n",
       "\n",
       "   HH Income + Consumption+ Assets + Residues (UGX)  Treatment Status  Cohort  \n",
       "0                                          250000.0         Treatment    2020  \n",
       "1                                          256000.0         Treatment    2020  \n",
       "2                                          267000.0         Treatment    2020  \n",
       "3                                          272000.0         Treatment    2020  \n",
       "4                                          284000.0         Treatment    2020  \n",
       "\n",
       "[5 rows x 1410 columns]"
      ]
     },
     "execution_count": 115,
     "metadata": {},
     "output_type": "execute_result"
    }
   ],
   "source": [
    "data = pd.read_csv(\"/notebooks/course22p2/interview/rtv.csv\", low_memory=False)\n",
    "data.head()"
   ]
  },
  {
   "cell_type": "code",
   "execution_count": 34,
   "id": "f69c3d91",
   "metadata": {},
   "outputs": [
    {
     "data": {
      "text/plain": [
       "(4597, 1410)"
      ]
     },
     "execution_count": 34,
     "metadata": {},
     "output_type": "execute_result"
    }
   ],
   "source": [
    "data.shape"
   ]
  },
  {
   "cell_type": "code",
   "execution_count": 139,
   "id": "83e0dd5c",
   "metadata": {
    "scrolled": true
   },
   "outputs": [
    {
     "name": "stdout",
     "output_type": "stream",
     "text": [
      "Index(['respondent_sex', 'water_treat_method_other', 'bicycle_owned_value_chk',\n",
      "       'hh_member8_farm', 'member8_chosen_farm', 'work_farm_days8',\n",
      "       'work_farm_hours8', 'hh_member9_farm', 'member9_chosen_farm',\n",
      "       'work_farm_days9',\n",
      "       ...\n",
      "       'sn_1_Cauliflower_value_add_price', 'sn_1_Cauliflower_cost_Value_Add',\n",
      "       'sn_1_Black_Nightshade_value_add_price',\n",
      "       'sn_1_Black_Nightshade_cost_Value_Add',\n",
      "       'sn_1_Purple_Eggplants_value_add_price',\n",
      "       'sn_1_Purple_Eggplants_cost_Value_Add', 'sn_1_Soya_value_add_pSoya',\n",
      "       'sn_1_Soya_cost_Value_Add', 'sn_2_Irish_Potatoes_value_add_price',\n",
      "       'sn_2_Irish_Potatoes_cost_Value_Add'],\n",
      "      dtype='object', length=182)\n"
     ]
    }
   ],
   "source": [
    "# Get the names of the empty columns\n",
    "empty_cols = data.isna().sum() == len(data)\n",
    "empty_cols_names = empty_cols.index[empty_cols]\n",
    "print(empty_cols_names)"
   ]
  },
  {
   "cell_type": "code",
   "execution_count": 140,
   "id": "57e24efa",
   "metadata": {},
   "outputs": [
    {
     "data": {
      "text/plain": [
       "182"
      ]
     },
     "execution_count": 140,
     "metadata": {},
     "output_type": "execute_result"
    }
   ],
   "source": [
    "empty_cols_names = empty_cols.index[empty_cols].tolist()\n",
    "len(empty_cols_names)"
   ]
  },
  {
   "cell_type": "code",
   "execution_count": 122,
   "id": "a6e67f8f",
   "metadata": {},
   "outputs": [],
   "source": [
    "data['HH Income (UGX)'] = data['HH Income (UGX)'].replace(',', '', regex=True)"
   ]
  },
  {
   "cell_type": "code",
   "execution_count": 35,
   "id": "810e86b8",
   "metadata": {},
   "outputs": [],
   "source": [
    "from sklearn.preprocessing import LabelEncoder"
   ]
  },
  {
   "cell_type": "code",
   "execution_count": 141,
   "id": "e8a519d4",
   "metadata": {},
   "outputs": [],
   "source": [
    "y = data['HH Income (UGX)']\n",
    "X = data.drop(columns=['HH Income (UGX)', 'SubmissionDate', 'starttime', 'endtime', 'KEY']+empty_cols_names)"
   ]
  },
  {
   "cell_type": "code",
   "execution_count": 142,
   "id": "c5163d51",
   "metadata": {},
   "outputs": [
    {
     "data": {
      "text/plain": [
       "0        150000.0\n",
       "1        256000.0\n",
       "2        160000.0\n",
       "3        196000.0\n",
       "4        138500.0\n",
       "          ...    \n",
       "4592    4650000.0\n",
       "4593    4040000.0\n",
       "4594    8570000.0\n",
       "4595    5726000.0\n",
       "4596    9055000.0\n",
       "Name: HH Income (UGX), Length: 4597, dtype: float64"
      ]
     },
     "execution_count": 142,
     "metadata": {},
     "output_type": "execute_result"
    }
   ],
   "source": [
    "y = pd.to_numeric(y, errors='coerce')\n",
    "y"
   ]
  },
  {
   "cell_type": "code",
   "execution_count": 143,
   "id": "56347f8a",
   "metadata": {},
   "outputs": [],
   "source": [
    "# Separate string and numeric columns\n",
    "X_str = X.select_dtypes(include=\"object\") # string columns\n",
    "X_num = X.select_dtypes(exclude=\"object\") # numeric columns\n",
    "\n",
    "# Encode string columns using label encoder\n",
    "encoder = LabelEncoder()\n",
    "for col in X_str.columns:\n",
    "    X_str[col] = encoder.fit_transform(X_str[col])\n",
    "\n",
    "# Concatenate string and numeric columns\n",
    "X = pd.concat([X_str, X_num], axis=1)"
   ]
  },
  {
   "cell_type": "code",
   "execution_count": null,
   "id": "502fdd2b",
   "metadata": {},
   "outputs": [],
   "source": []
  },
  {
   "cell_type": "code",
   "execution_count": 144,
   "id": "89911943",
   "metadata": {},
   "outputs": [],
   "source": [
    "X.fillna(X.mean(), inplace=True)"
   ]
  },
  {
   "cell_type": "code",
   "execution_count": 145,
   "id": "ab348a13",
   "metadata": {},
   "outputs": [],
   "source": [
    "y = y.fillna(y.mean())"
   ]
  },
  {
   "cell_type": "code",
   "execution_count": 146,
   "id": "183c0377",
   "metadata": {},
   "outputs": [
    {
     "data": {
      "text/plain": [
       "0        150000.0\n",
       "1        256000.0\n",
       "2        160000.0\n",
       "3        196000.0\n",
       "4        138500.0\n",
       "          ...    \n",
       "4592    4650000.0\n",
       "4593    4040000.0\n",
       "4594    8570000.0\n",
       "4595    5726000.0\n",
       "4596    9055000.0\n",
       "Name: HH Income (UGX), Length: 4597, dtype: float64"
      ]
     },
     "execution_count": 146,
     "metadata": {},
     "output_type": "execute_result"
    }
   ],
   "source": [
    "y"
   ]
  },
  {
   "cell_type": "code",
   "execution_count": 147,
   "id": "fc7111a5",
   "metadata": {},
   "outputs": [],
   "source": [
    "from sklearn.ensemble import RandomForestRegressor\n",
    "rf = RandomForestRegressor()\n",
    "rf.fit(X, y)\n",
    "importances = rf.feature_importances_\n",
    "indices = np.argsort(importances)[-10:]"
   ]
  },
  {
   "cell_type": "code",
   "execution_count": 148,
   "id": "7e7fc167",
   "metadata": {},
   "outputs": [],
   "source": [
    "import matplotlib.pyplot as plt "
   ]
  },
  {
   "cell_type": "code",
   "execution_count": 149,
   "id": "eec6b72e",
   "metadata": {},
   "outputs": [
    {
     "data": {
      "image/png": "[encoded data removed]",
      "text/plain": [
       "<Figure size 432x288 with 1 Axes>"
      ]
     },
     "metadata": {
      "needs_background": "light"
     },
     "output_type": "display_data"
    }
   ],
   "source": [
    "plt.figure()\n",
    "plt.title(\"Feature importances\")\n",
    "plt.barh(range(10), importances[indices], align=\"center\")\n",
    "plt.yticks(range(10), X.columns[indices])\n",
    "plt.xlabel(\"Relative importance\")\n",
    "plt.show()"
   ]
  },
  {
   "cell_type": "code",
   "execution_count": 152,
   "id": "76d7c36a",
   "metadata": {},
   "outputs": [],
   "source": [
    "indices = np.argsort(importances)[-8:]"
   ]
  },
  {
   "cell_type": "code",
   "execution_count": 153,
   "id": "bc2f8d1c",
   "metadata": {},
   "outputs": [
    {
     "data": {
      "text/plain": [
       "['Season 2 Agriculture Value (Ugx)',\n",
       " 'Casual Labour (Ugx)',\n",
       " 'Season 1 Agriculture Value (Ugx)',\n",
       " 'Perenial Crops Income (Ugx)',\n",
       " 'Personal Business & Self Employment (Ugx)',\n",
       " 'Agriculture Income (UGX) ',\n",
       " 'Perennial Agriculture Value (Ugx)',\n",
       " 'HH Income + Consumption + Residues (UGX)']"
      ]
     },
     "execution_count": 153,
     "metadata": {},
     "output_type": "execute_result"
    }
   ],
   "source": [
    "list(X.columns[indices])"
   ]
  },
  {
   "cell_type": "code",
   "execution_count": null,
   "id": "c35cf310",
   "metadata": {},
   "outputs": [],
   "source": []
  }
 ],
 "metadata": {
  "kernelspec": {
   "display_name": "Python 3 (ipykernel)",
   "language": "python",
   "name": "python3"
  },
  "language_info": {
   "codemirror_mode": {
    "name": "ipython",
    "version": 3
   },
   "file_extension": ".py",
   "mimetype": "text/x-python",
   "name": "python",
   "nbconvert_exporter": "python",
   "pygments_lexer": "ipython3",
   "version": "3.9.13"
  }
 },
 "nbformat": 4,
 "nbformat_minor": 5
}
